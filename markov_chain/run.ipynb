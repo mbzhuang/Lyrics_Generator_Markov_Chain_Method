{
 "cells": [
  {
   "cell_type": "markdown",
   "metadata": {},
   "source": [
    "# Generator Bob Dylan style lyrics\n",
    "## Step 1: Read the lyrics from Bob Dylan's 459 songs into a dataframe."
   ]
  },
  {
   "cell_type": "code",
   "execution_count": 1,
   "metadata": {
    "collapsed": false
   },
   "outputs": [],
   "source": [
    "import os\n",
    "os.chdir('C:\\\\Users\\\\zhuangmg\\\\MZ_study\\\\Data_Science_First_Year\\\\Jobs\\\\Projects\\\\Lyrics Generator')\n",
    "import pandas as pd\n",
    "df_new = pd.read_csv(\"lyrics.csv\")"
   ]
  },
  {
   "cell_type": "markdown",
   "metadata": {},
   "source": [
    "## Step 2: Import MarkovChain, prepare the lyrics by converting the lyrics to one string, and generate new lyrics using \"generate_text\" method."
   ]
  },
  {
   "cell_type": "code",
   "execution_count": 33,
   "metadata": {
    "collapsed": false
   },
   "outputs": [],
   "source": [
    "from markov_python.cc_markov import MarkovChain\n",
    "str = ''\n",
    "for i in (df_new.iloc[:, 1]):\n",
    "    str += i\n",
    "BobDylan = MarkovChain()\n",
    "MarkovChain.add_string(BobDylan, str)"
   ]
  },
  {
   "cell_type": "code",
   "execution_count": 36,
   "metadata": {
    "collapsed": false
   },
   "outputs": [
    {
     "data": {
      "text/plain": [
       "'right and wrong rita may how’d you ever see its passengers its crazy mixed up souls did you ever try'"
      ]
     },
     "execution_count": 36,
     "metadata": {},
     "output_type": "execute_result"
    }
   ],
   "source": [
    "MarkovChain.generate_text(BobDylan)"
   ]
  }
 ],
 "metadata": {
  "anaconda-cloud": {},
  "kernelspec": {
   "display_name": "Python [default]",
   "language": "python",
   "name": "python3"
  },
  "language_info": {
   "codemirror_mode": {
    "name": "ipython",
    "version": 3
   },
   "file_extension": ".py",
   "mimetype": "text/x-python",
   "name": "python",
   "nbconvert_exporter": "python",
   "pygments_lexer": "ipython3",
   "version": "3.5.2"
  }
 },
 "nbformat": 4,
 "nbformat_minor": 1
}
