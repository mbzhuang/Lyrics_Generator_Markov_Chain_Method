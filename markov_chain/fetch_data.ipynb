{
 "cells": [
  {
   "cell_type": "code",
   "execution_count": null,
   "metadata": {
    "collapsed": true
   },
   "outputs": [],
   "source": [
    "# Web scrape Bob Dylan's lyrics\n",
    "## Step 1: Store all the links to the lyrics."
   ]
  },
  {
   "cell_type": "code",
   "execution_count": 1,
   "metadata": {
    "collapsed": true
   },
   "outputs": [],
   "source": [
    "from bs4 import BeautifulSoup\n",
    "import requests\n",
    "r = requests.get(\"http://www.bobdylan.com/songs/\")\n",
    "soup = BeautifulSoup(r.content, \"lxml\")\n",
    "hplinks = soup.find_all(\"a\")\n",
    "linkset = set()\n",
    "for link in hplinks:\n",
    "    if \"http://www.bobdylan.com/songs/\" in link.get(\"href\"):\n",
    "        linkset.add(link.get(\"href\"))\n",
    "linklist = list(linkset)\n",
    "linklist.sort()\n",
    "## remove unwanted links\n",
    "linklist.pop(654)\n",
    "linklist.pop(653)"
   ]
  },
  {
   "cell_type": "markdown",
   "metadata": {},
   "source": [
    "## Step 2: Read and store lyrics from the links."
   ]
  },
  {
   "cell_type": "code",
   "execution_count": 13,
   "metadata": {
    "collapsed": false
   },
   "outputs": [],
   "source": [
    "lyrics = []\n",
    "for link in linklist:\n",
    "    r = requests.get(link)\n",
    "    soup = BeautifulSoup(r.content, \"lxml\")\n",
    "    l = soup.find_all('div', class_=\"article-content lyrics\")\n",
    "    t = l[0].text.replace(\"\\r\", \"\").replace(\"\\t\", \"\").replace(\"\\n\", \",\")\n",
    "    sep = 'Copyright'\n",
    "    rest = t.split(sep, 1)[0]\n",
    "    lyrics.append(rest)"
   ]
  },
  {
   "cell_type": "code",
   "execution_count": 19,
   "metadata": {
    "collapsed": false
   },
   "outputs": [],
   "source": [
    "# Remove \"false lyrics\" and \",\" (lyrics shorter than 100 charaters)\n",
    "length = []\n",
    "for i in lyrics:\n",
    "    length.append(len(i))\n",
    "length.sort()\n",
    "for i in range(0, len(lyrics)):\n",
    "    if(len(lyrics[i]) <= 100):\n",
    "        del lyrics[i]\n",
    "while (',') in lyrics:\n",
    "    lyrics.remove(',')\n",
    "while ('') in lyrics:\n",
    "    lyrics.remove('')"
   ]
  },
  {
   "cell_type": "markdown",
   "metadata": {},
   "source": [
    "## Step 3: Store lyrics to a dataframe and write to a csv file."
   ]
  },
  {
   "cell_type": "code",
   "execution_count": 27,
   "metadata": {
    "collapsed": true
   },
   "outputs": [],
   "source": [
    "import pandas as pd\n",
    "df = pd.DataFrame(lyrics)\n",
    "df.to_csv(\"./Desktop/lyrics.csv\", encoding = 'utf-8')"
   ]
  }
 ],
 "metadata": {
  "anaconda-cloud": {},
  "kernelspec": {
   "display_name": "Python [conda root]",
   "language": "python",
   "name": "conda-root-py"
  },
  "language_info": {
   "codemirror_mode": {
    "name": "ipython",
    "version": 3
   },
   "file_extension": ".py",
   "mimetype": "text/x-python",
   "name": "python",
   "nbconvert_exporter": "python",
   "pygments_lexer": "ipython3",
   "version": "3.5.2"
  }
 },
 "nbformat": 4,
 "nbformat_minor": 1
}
